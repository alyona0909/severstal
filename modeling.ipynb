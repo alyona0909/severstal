{
 "cells": [
  {
   "cell_type": "code",
   "execution_count": 1,
   "metadata": {},
   "outputs": [],
   "source": [
    "import pandas as pd\n",
    "import numpy as np\n",
    "import matplotlib.pyplot as plt\n",
    "\n",
    "from sklearn.model_selection import StratifiedKFold\n",
    "from sklearn.preprocessing import StandardScaler\n",
    "from sklearn.compose import ColumnTransformer\n",
    "from sklearn.linear_model import LogisticRegression\n",
    "from sklearn.metrics import roc_auc_score, confusion_matrix\n",
    "from sklearn.model_selection import GridSearchCV"
   ]
  },
  {
   "cell_type": "code",
   "execution_count": 2,
   "metadata": {},
   "outputs": [
    {
     "data": {
      "text/html": [
       "<div>\n",
       "<style scoped>\n",
       "    .dataframe tbody tr th:only-of-type {\n",
       "        vertical-align: middle;\n",
       "    }\n",
       "\n",
       "    .dataframe tbody tr th {\n",
       "        vertical-align: top;\n",
       "    }\n",
       "\n",
       "    .dataframe thead th {\n",
       "        text-align: right;\n",
       "    }\n",
       "</style>\n",
       "<table border=\"1\" class=\"dataframe\">\n",
       "  <thead>\n",
       "    <tr style=\"text-align: right;\">\n",
       "      <th></th>\n",
       "      <th>Макс. ПДЗ за Y-1 год, дней</th>\n",
       "      <th>Сред. ПДЗ за Y-1 год, дней</th>\n",
       "      <th>Кол-во просрочек свыше 5-ти дней за Y-1 год, шт.</th>\n",
       "      <th>Общая сумма ПДЗ свыше 5-ти дней за Y-1 год, руб.</th>\n",
       "      <th>Кол-во раз ПДЗ за Y-1 год, шт.</th>\n",
       "      <th>Итого</th>\n",
       "      <th>Y-4, Нематериальные активы, RUB</th>\n",
       "      <th>Y-3, Нематериальные активы, RUB</th>\n",
       "      <th>Y-2, Нематериальные активы, RUB</th>\n",
       "      <th>Y-1, Нематериальные активы, RUB</th>\n",
       "      <th>...</th>\n",
       "      <th>Y-1, Прибыль (убыток) до налогообложения , RUB</th>\n",
       "      <th>Y-4, Прибыль (убыток) от продажи, RUB</th>\n",
       "      <th>Y-3, Прибыль (убыток) от продажи, RUB</th>\n",
       "      <th>Y-2, Прибыль (убыток) от продажи, RUB</th>\n",
       "      <th>Y-1, Прибыль (убыток) от продажи, RUB</th>\n",
       "      <th>Факт просрочки</th>\n",
       "      <th>Просрочка более 30 дней</th>\n",
       "      <th>Просрочка 0-30</th>\n",
       "      <th>Оценка потенциала контрагента 1, руб.</th>\n",
       "      <th>Оценка потенциала контрагента 2, руб.</th>\n",
       "    </tr>\n",
       "  </thead>\n",
       "  <tbody>\n",
       "    <tr>\n",
       "      <th>0</th>\n",
       "      <td>0</td>\n",
       "      <td>0.0</td>\n",
       "      <td>0</td>\n",
       "      <td>0.000000</td>\n",
       "      <td>0</td>\n",
       "      <td>10.0</td>\n",
       "      <td>2.895541e+06</td>\n",
       "      <td>6.245860e+06</td>\n",
       "      <td>9.050955e+06</td>\n",
       "      <td>9.885987e+06</td>\n",
       "      <td>...</td>\n",
       "      <td>3.603784e+09</td>\n",
       "      <td>3.280355e+09</td>\n",
       "      <td>6.200120e+09</td>\n",
       "      <td>8.716191e+08</td>\n",
       "      <td>3.658634e+09</td>\n",
       "      <td>1</td>\n",
       "      <td>0</td>\n",
       "      <td>1</td>\n",
       "      <td>-1.0</td>\n",
       "      <td>-1.0</td>\n",
       "    </tr>\n",
       "    <tr>\n",
       "      <th>1</th>\n",
       "      <td>0</td>\n",
       "      <td>0.0</td>\n",
       "      <td>0</td>\n",
       "      <td>0.000000</td>\n",
       "      <td>0</td>\n",
       "      <td>20.0</td>\n",
       "      <td>0.000000e+00</td>\n",
       "      <td>3.885350e+04</td>\n",
       "      <td>3.439490e+04</td>\n",
       "      <td>2.929936e+04</td>\n",
       "      <td>...</td>\n",
       "      <td>8.747516e+07</td>\n",
       "      <td>1.630064e+07</td>\n",
       "      <td>1.109172e+07</td>\n",
       "      <td>5.135732e+07</td>\n",
       "      <td>9.411019e+07</td>\n",
       "      <td>1</td>\n",
       "      <td>0</td>\n",
       "      <td>1</td>\n",
       "      <td>-1.0</td>\n",
       "      <td>-1.0</td>\n",
       "    </tr>\n",
       "    <tr>\n",
       "      <th>2</th>\n",
       "      <td>7</td>\n",
       "      <td>5.5</td>\n",
       "      <td>1</td>\n",
       "      <td>132825.299363</td>\n",
       "      <td>2</td>\n",
       "      <td>40.0</td>\n",
       "      <td>2.468153e+06</td>\n",
       "      <td>1.288025e+07</td>\n",
       "      <td>8.694904e+06</td>\n",
       "      <td>4.958599e+06</td>\n",
       "      <td>...</td>\n",
       "      <td>-6.456439e+08</td>\n",
       "      <td>4.148586e+08</td>\n",
       "      <td>1.611318e+08</td>\n",
       "      <td>-9.298981e+07</td>\n",
       "      <td>-1.207210e+08</td>\n",
       "      <td>1</td>\n",
       "      <td>0</td>\n",
       "      <td>1</td>\n",
       "      <td>-1.0</td>\n",
       "      <td>-1.0</td>\n",
       "    </tr>\n",
       "    <tr>\n",
       "      <th>3</th>\n",
       "      <td>0</td>\n",
       "      <td>0.0</td>\n",
       "      <td>0</td>\n",
       "      <td>0.000000</td>\n",
       "      <td>0</td>\n",
       "      <td>10.0</td>\n",
       "      <td>0.000000e+00</td>\n",
       "      <td>0.000000e+00</td>\n",
       "      <td>0.000000e+00</td>\n",
       "      <td>0.000000e+00</td>\n",
       "      <td>...</td>\n",
       "      <td>3.999298e+09</td>\n",
       "      <td>4.903117e+09</td>\n",
       "      <td>5.186553e+09</td>\n",
       "      <td>7.869977e+09</td>\n",
       "      <td>4.029232e+09</td>\n",
       "      <td>1</td>\n",
       "      <td>0</td>\n",
       "      <td>1</td>\n",
       "      <td>-1.0</td>\n",
       "      <td>-1.0</td>\n",
       "    </tr>\n",
       "    <tr>\n",
       "      <th>4</th>\n",
       "      <td>2</td>\n",
       "      <td>2.0</td>\n",
       "      <td>0</td>\n",
       "      <td>0.000000</td>\n",
       "      <td>2</td>\n",
       "      <td>20.0</td>\n",
       "      <td>5.503185e+05</td>\n",
       "      <td>5.210191e+05</td>\n",
       "      <td>4.490446e+05</td>\n",
       "      <td>3.987261e+05</td>\n",
       "      <td>...</td>\n",
       "      <td>4.960408e+10</td>\n",
       "      <td>2.338912e+10</td>\n",
       "      <td>3.727984e+10</td>\n",
       "      <td>5.307524e+10</td>\n",
       "      <td>5.622122e+10</td>\n",
       "      <td>1</td>\n",
       "      <td>0</td>\n",
       "      <td>1</td>\n",
       "      <td>-1.0</td>\n",
       "      <td>-1.0</td>\n",
       "    </tr>\n",
       "  </tbody>\n",
       "</table>\n",
       "<p>5 rows × 75 columns</p>\n",
       "</div>"
      ],
      "text/plain": [
       "   Макс. ПДЗ за Y-1 год, дней  Сред. ПДЗ за Y-1 год, дней  \\\n",
       "0                           0                         0.0   \n",
       "1                           0                         0.0   \n",
       "2                           7                         5.5   \n",
       "3                           0                         0.0   \n",
       "4                           2                         2.0   \n",
       "\n",
       "   Кол-во просрочек свыше 5-ти дней за Y-1 год, шт.  \\\n",
       "0                                                 0   \n",
       "1                                                 0   \n",
       "2                                                 1   \n",
       "3                                                 0   \n",
       "4                                                 0   \n",
       "\n",
       "   Общая сумма ПДЗ свыше 5-ти дней за Y-1 год, руб.  \\\n",
       "0                                          0.000000   \n",
       "1                                          0.000000   \n",
       "2                                     132825.299363   \n",
       "3                                          0.000000   \n",
       "4                                          0.000000   \n",
       "\n",
       "   Кол-во раз ПДЗ за Y-1 год, шт.  Итого  Y-4, Нематериальные активы, RUB  \\\n",
       "0                               0   10.0                     2.895541e+06   \n",
       "1                               0   20.0                     0.000000e+00   \n",
       "2                               2   40.0                     2.468153e+06   \n",
       "3                               0   10.0                     0.000000e+00   \n",
       "4                               2   20.0                     5.503185e+05   \n",
       "\n",
       "   Y-3, Нематериальные активы, RUB  Y-2, Нематериальные активы, RUB  \\\n",
       "0                     6.245860e+06                     9.050955e+06   \n",
       "1                     3.885350e+04                     3.439490e+04   \n",
       "2                     1.288025e+07                     8.694904e+06   \n",
       "3                     0.000000e+00                     0.000000e+00   \n",
       "4                     5.210191e+05                     4.490446e+05   \n",
       "\n",
       "   Y-1, Нематериальные активы, RUB  ...  \\\n",
       "0                     9.885987e+06  ...   \n",
       "1                     2.929936e+04  ...   \n",
       "2                     4.958599e+06  ...   \n",
       "3                     0.000000e+00  ...   \n",
       "4                     3.987261e+05  ...   \n",
       "\n",
       "   Y-1, Прибыль (убыток) до налогообложения , RUB  \\\n",
       "0                                    3.603784e+09   \n",
       "1                                    8.747516e+07   \n",
       "2                                   -6.456439e+08   \n",
       "3                                    3.999298e+09   \n",
       "4                                    4.960408e+10   \n",
       "\n",
       "   Y-4, Прибыль (убыток) от продажи, RUB  \\\n",
       "0                           3.280355e+09   \n",
       "1                           1.630064e+07   \n",
       "2                           4.148586e+08   \n",
       "3                           4.903117e+09   \n",
       "4                           2.338912e+10   \n",
       "\n",
       "   Y-3, Прибыль (убыток) от продажи, RUB  \\\n",
       "0                           6.200120e+09   \n",
       "1                           1.109172e+07   \n",
       "2                           1.611318e+08   \n",
       "3                           5.186553e+09   \n",
       "4                           3.727984e+10   \n",
       "\n",
       "   Y-2, Прибыль (убыток) от продажи, RUB  \\\n",
       "0                           8.716191e+08   \n",
       "1                           5.135732e+07   \n",
       "2                          -9.298981e+07   \n",
       "3                           7.869977e+09   \n",
       "4                           5.307524e+10   \n",
       "\n",
       "   Y-1, Прибыль (убыток) от продажи, RUB  Факт просрочки  \\\n",
       "0                           3.658634e+09               1   \n",
       "1                           9.411019e+07               1   \n",
       "2                          -1.207210e+08               1   \n",
       "3                           4.029232e+09               1   \n",
       "4                           5.622122e+10               1   \n",
       "\n",
       "   Просрочка более 30 дней  Просрочка 0-30  \\\n",
       "0                        0               1   \n",
       "1                        0               1   \n",
       "2                        0               1   \n",
       "3                        0               1   \n",
       "4                        0               1   \n",
       "\n",
       "   Оценка потенциала контрагента 1, руб.  \\\n",
       "0                                   -1.0   \n",
       "1                                   -1.0   \n",
       "2                                   -1.0   \n",
       "3                                   -1.0   \n",
       "4                                   -1.0   \n",
       "\n",
       "   Оценка потенциала контрагента 2, руб.  \n",
       "0                                   -1.0  \n",
       "1                                   -1.0  \n",
       "2                                   -1.0  \n",
       "3                                   -1.0  \n",
       "4                                   -1.0  \n",
       "\n",
       "[5 rows x 75 columns]"
      ]
     },
     "execution_count": 2,
     "metadata": {},
     "output_type": "execute_result"
    }
   ],
   "source": [
    "# чтение данных\n",
    "df = pd.read_csv('data.csv')\n",
    "df.head()"
   ]
  },
  {
   "cell_type": "code",
   "execution_count": 3,
   "metadata": {},
   "outputs": [
    {
     "data": {
      "text/plain": [
       "(853, 75)"
      ]
     },
     "execution_count": 3,
     "metadata": {},
     "output_type": "execute_result"
    }
   ],
   "source": [
    "df.shape"
   ]
  },
  {
   "cell_type": "markdown",
   "metadata": {},
   "source": [
    "## Исследование\n",
    "* Проведем исследование подхода к моделированию на таргете \"Факт просрочки\"\n",
    "\n",
    "### Выбор модели\n",
    "* Так как полученный датафрейм не обладает большим количеством строк, для моделирования будем использовать модель логистической регрессии.\n",
    "\n",
    "### Предобработка данных\n",
    "* Предварительно нормализуем значения фичей для ускорения моделирования (отметим, что это не обязательный шаг, но так процесс схождения к минимуму выполнится быстрее)\n",
    "* Так как в датасете присутствуют три таргета - для каждого построим отдельную модель\n",
    "\n",
    "### Подбор параметров\n",
    "* Подберем паракметры для логистической регрессии с помощью GridSearchCV\n",
    "\n",
    "### Факт просрочки"
   ]
  },
  {
   "cell_type": "code",
   "execution_count": 4,
   "metadata": {},
   "outputs": [
    {
     "name": "stdout",
     "output_type": "stream",
     "text": [
      "Classifier best score - 0.675996173945502\n",
      "Classifier best parametrs - {'C': 1, 'class_weight': 'balanced', 'solver': 'saga'}\n"
     ]
    }
   ],
   "source": [
    "y = df['Факт просрочки']\n",
    "X = df.drop(['Факт просрочки', 'Просрочка более 30 дней', 'Просрочка 0-30'], axis=1)\n",
    "\n",
    "scaler = StandardScaler()\n",
    "transformer = ColumnTransformer([(\"st_scaler\", \n",
    "                                 scaler, \n",
    "                                 X.columns)],\n",
    "                                 remainder=\"passthrough\")\n",
    "\n",
    "transformed_X = transformer.fit_transform(X)\n",
    "\n",
    "logreg = LogisticRegression(max_iter=10000, random_state=42)\n",
    "param = {'C':[0.001, 0.01,  0.1, 1, 5], \n",
    "         'class_weight': [None, 'balanced'],\n",
    "         'solver': ['newton-cg', 'lbfgs', 'liblinear', 'sag', 'saga']}\n",
    "clf_for_fact_default = GridSearchCV(logreg,\n",
    "                   param,\n",
    "                   scoring='roc_auc',\n",
    "                   cv=10)\n",
    "clf_for_fact_default.fit(transformed_X,y)\n",
    "print(f\"Classifier best score - {clf_for_fact_default.best_score_}\")\n",
    "print(f\"Classifier best parametrs - {clf_for_fact_default.best_params_}\")"
   ]
  },
  {
   "cell_type": "code",
   "execution_count": 5,
   "metadata": {},
   "outputs": [
    {
     "name": "stdout",
     "output_type": "stream",
     "text": [
      "Факт просрочки\n",
      "1    471\n",
      "0    382\n",
      "Name: Факт просрочки, dtype: int64\n",
      "\n",
      "Просрочка 0-30\n",
      "1    503\n",
      "0    350\n",
      "Name: Просрочка 0-30, dtype: int64\n",
      "\n",
      "Просрочка более 30 дней\n",
      "0    696\n",
      "1    157\n",
      "Name: Просрочка более 30 дней, dtype: int64\n"
     ]
    }
   ],
   "source": [
    "print('Факт просрочки')\n",
    "print(df['Факт просрочки'].value_counts())\n",
    "print('\\nПросрочка 0-30')\n",
    "print(df['Просрочка 0-30'].value_counts())\n",
    "print('\\nПросрочка более 30 дней')\n",
    "print(df['Просрочка более 30 дней'].value_counts())"
   ]
  },
  {
   "cell_type": "markdown",
   "metadata": {},
   "source": [
    "### Обучение и тестирование\n",
    "* Отметим, что так как у нас несбалансированная выборка, мы будем использовать стратифицированную кросс-валидацию и метрику roc_auc_score для проверки качества\n"
   ]
  },
  {
   "cell_type": "code",
   "execution_count": 6,
   "metadata": {},
   "outputs": [
    {
     "name": "stdout",
     "output_type": "stream",
     "text": [
      "1 из KFold 5\n",
      "ROC_AUC score: 0.7164819944598338\n",
      "2 из KFold 5\n",
      "ROC_AUC score: 0.6762917933130699\n",
      "3 из KFold 5\n",
      "ROC_AUC score: 0.6996407847471676\n",
      "4 из KFold 5\n",
      "ROC_AUC score: 0.7007278835386338\n",
      "5 из KFold 5\n",
      "ROC_AUC score: 0.6360582306830908\n",
      "\n",
      "Средний ROC_AUC score: 0.6858401373483592\n"
     ]
    }
   ],
   "source": [
    "kf = StratifiedKFold(n_splits=5, shuffle=True, random_state=42)\n",
    "cv_score = []\n",
    "i = 1\n",
    "for train_index, test_index in kf.split(transformed_X,y):\n",
    "    print('{} из KFold {}'.format(i, kf.n_splits))\n",
    "    X_train, X_test = transformed_X[train_index], transformed_X[test_index]\n",
    "    y_train, y_test = y.loc[train_index], y.loc[test_index]\n",
    "\n",
    "    lr = LogisticRegression(C=1, max_iter=10000, class_weight='balanced',\n",
    "                   random_state=42, solver='saga')\n",
    "    lr.fit(X_train, y_train)\n",
    "    score = roc_auc_score(y_test, lr.predict_proba(X_test)[:, 1])\n",
    "    print('ROC_AUC score:',score)\n",
    "    cv_score.append(score) \n",
    "    i += 1\n",
    "    \n",
    "print(f\"\\nСредний ROC_AUC score: {np.mean(cv_score)}\")"
   ]
  },
  {
   "cell_type": "markdown",
   "metadata": {},
   "source": [
    "### Значимость фичей\n",
    "* Оценим вклад, вносимый каждой из фичей в моделирование и удалим те, importance для которых меньше, чем 0.1"
   ]
  },
  {
   "cell_type": "code",
   "execution_count": 7,
   "metadata": {},
   "outputs": [
    {
     "data": {
      "text/html": [
       "<div>\n",
       "<style scoped>\n",
       "    .dataframe tbody tr th:only-of-type {\n",
       "        vertical-align: middle;\n",
       "    }\n",
       "\n",
       "    .dataframe tbody tr th {\n",
       "        vertical-align: top;\n",
       "    }\n",
       "\n",
       "    .dataframe thead th {\n",
       "        text-align: right;\n",
       "    }\n",
       "</style>\n",
       "<table border=\"1\" class=\"dataframe\">\n",
       "  <thead>\n",
       "    <tr style=\"text-align: right;\">\n",
       "      <th></th>\n",
       "      <th>0</th>\n",
       "    </tr>\n",
       "  </thead>\n",
       "  <tbody>\n",
       "    <tr>\n",
       "      <th>Макс. ПДЗ за Y-1 год, дней</th>\n",
       "      <td>0.196017</td>\n",
       "    </tr>\n",
       "    <tr>\n",
       "      <th>Сред. ПДЗ за Y-1 год, дней</th>\n",
       "      <td>0.285458</td>\n",
       "    </tr>\n",
       "    <tr>\n",
       "      <th>Кол-во просрочек свыше 5-ти дней за Y-1 год, шт.</th>\n",
       "      <td>-0.116567</td>\n",
       "    </tr>\n",
       "    <tr>\n",
       "      <th>Общая сумма ПДЗ свыше 5-ти дней за Y-1 год, руб.</th>\n",
       "      <td>-0.214554</td>\n",
       "    </tr>\n",
       "    <tr>\n",
       "      <th>Кол-во раз ПДЗ за Y-1 год, шт.</th>\n",
       "      <td>0.579504</td>\n",
       "    </tr>\n",
       "  </tbody>\n",
       "</table>\n",
       "</div>"
      ],
      "text/plain": [
       "                                                         0\n",
       "Макс. ПДЗ за Y-1 год, дней                        0.196017\n",
       "Сред. ПДЗ за Y-1 год, дней                        0.285458\n",
       "Кол-во просрочек свыше 5-ти дней за Y-1 год, шт. -0.116567\n",
       "Общая сумма ПДЗ свыше 5-ти дней за Y-1 год, руб. -0.214554\n",
       "Кол-во раз ПДЗ за Y-1 год, шт.                    0.579504"
      ]
     },
     "execution_count": 7,
     "metadata": {},
     "output_type": "execute_result"
    },
    {
     "data": {
      "text/plain": [
       "<Figure size 1440x360 with 0 Axes>"
      ]
     },
     "metadata": {},
     "output_type": "display_data"
    }
   ],
   "source": [
    "plt.figure(figsize=(20, 5))\n",
    "logreg = LogisticRegression(C=1, solver='saga',\n",
    "                            max_iter=10000, class_weight='balanced',random_state=42).fit(transformed_X, y)\n",
    "importance = pd.DataFrame(logreg.coef_[0], X.columns)\n",
    "importance.head()"
   ]
  },
  {
   "cell_type": "code",
   "execution_count": 8,
   "metadata": {},
   "outputs": [
    {
     "name": "stdout",
     "output_type": "stream",
     "text": [
      "1 из KFold 5\n",
      "ROC_AUC score: 0.7256232686980609\n",
      "2 из KFold 5\n",
      "ROC_AUC score: 0.6892788063000829\n",
      "3 из KFold 5\n",
      "ROC_AUC score: 0.7050290135396519\n",
      "4 из KFold 5\n",
      "ROC_AUC score: 0.7057670772676373\n",
      "5 из KFold 5\n",
      "ROC_AUC score: 0.6409574468085106\n",
      "\n",
      "Средний ROC_AUC score: 0.6933311225227887\n"
     ]
    }
   ],
   "source": [
    "y = df['Факт просрочки']\n",
    "X = df.drop(['Факт просрочки', 'Просрочка более 30 дней', 'Просрочка 0-30'], axis=1)\n",
    "\n",
    "scaler = StandardScaler()\n",
    "transformer = ColumnTransformer([(\"st_scaler\", \n",
    "                                 scaler, \n",
    "                                 X.columns)],\n",
    "                                 remainder=\"passthrough\")\n",
    "\n",
    "transformed_X = transformer.fit_transform(X)\n",
    "\n",
    "logreg = LogisticRegression(C=1, solver='saga', max_iter=10000, random_state=42).fit(transformed_X, y)\n",
    "importance = pd.DataFrame(logreg.coef_[0], X.columns)\n",
    "\n",
    "for col in X.columns:\n",
    "    if np.abs(importance.loc[col].values[0]) <= 0.1:\n",
    "        X.drop(col, axis=1, inplace=True)\n",
    "\n",
    "scaler = StandardScaler()\n",
    "transformer = ColumnTransformer([(\"st_scaler\", \n",
    "                                 scaler, \n",
    "                                 X.columns)],\n",
    "                                 remainder=\"passthrough\")\n",
    "\n",
    "transformed_X = transformer.fit_transform(X)\n",
    "\n",
    "kf = StratifiedKFold(n_splits=5, shuffle=True, random_state=42)\n",
    "cv_score = []\n",
    "i = 1\n",
    "for train_index, test_index in kf.split(transformed_X,y):\n",
    "    print('{} из KFold {}'.format(i, kf.n_splits))\n",
    "    X_train, X_test = transformed_X[train_index], transformed_X[test_index]\n",
    "    y_train, y_test = y.loc[train_index], y.loc[test_index]\n",
    "\n",
    "    lr = LogisticRegression(C=1, max_iter=10000, class_weight='balanced', solver='saga',\n",
    "                   random_state=42)\n",
    "    lr.fit(X_train, y_train)\n",
    "    y_predict = lr.predict_proba(X_test)[:, 1]\n",
    "    score = roc_auc_score(y_test, y_predict)\n",
    "    print('ROC_AUC score:',score)\n",
    "    cv_score.append(score) \n",
    "    i += 1\n",
    "    \n",
    "print(f\"\\nСредний ROC_AUC score: {np.mean(cv_score)}\")"
   ]
  },
  {
   "cell_type": "markdown",
   "metadata": {},
   "source": [
    "### Threshold \n",
    "* Посмотрим на confusion_matrix: главная цель - определение \"плохих\" контрагентов (аналог антифрода). Поэтому нам нужно уменьшить ложно негативные значения (левый нижний угол матрицы), чтобы снизить риск классификации в реальности \"плохого\" контрагента как \"хорошего\".\n",
    "* Уменьшение threshold дает нам уменьшение ложно негативных значений, но соответственно увеличивает ложно положительные (в реальных кейсах в таком случае возрастет нагрузка, например, на операторов, которым предстоит вручную проверять кейсы, в которых модель ложно отнесла контрагента к \"плохому\")."
   ]
  },
  {
   "cell_type": "code",
   "execution_count": 9,
   "metadata": {},
   "outputs": [
    {
     "data": {
      "text/plain": [
       "array([[25, 51],\n",
       "       [10, 84]])"
      ]
     },
     "execution_count": 9,
     "metadata": {},
     "output_type": "execute_result"
    }
   ],
   "source": [
    "cf = confusion_matrix(y_test, (y_predict >= 0.4).astype(int))\n",
    "cf"
   ]
  },
  {
   "cell_type": "markdown",
   "metadata": {},
   "source": [
    "### Пайплайн\n",
    "* Построим функцию-пайплайн проведенного выше обучения"
   ]
  },
  {
   "cell_type": "code",
   "execution_count": 10,
   "metadata": {},
   "outputs": [],
   "source": [
    "def train_test_func_with_get_metric(df, model,\n",
    "                                    num_splits=5,\n",
    "                                    delete_non_important=True,\n",
    "                                    threshold_importance = 0.1,\n",
    "                                    target_column='Факт просрочки',\n",
    "                                    cols_to_drop_from_X=['Факт просрочки', 'Просрочка более 30 дней', 'Просрочка 0-30'],\n",
    "                                    threshold=0.5,\n",
    "                                    random_state=42):\n",
    "    '''\n",
    "    Функция для обучения функции и проверки результатов обучения с помощью кросс-валидации.\n",
    "    :return - лист с полученными метриками roc_auc_score\n",
    "    :df - DataFrame,\n",
    "    :model - используемая модель,\n",
    "    :num_splits - на скольких сплитах проводить кросс-валидацию,\n",
    "    :delete_non_important - True - если нужно удалить фичи, вклад которых меньше порога, False - не проводится измерение вклада,\n",
    "    :threshold_importance - порог для удаления неважных фичей, \n",
    "    :cols_to_drop_from_X - фичи, которые нужно удалить из df,\n",
    "    :threshold - порог принятия решения для классификации,\n",
    "    :random_state - int\n",
    "    '''\n",
    "    \n",
    "    # разделим данные на фичи и таргет\n",
    "    X = df.drop(cols_to_drop_from_X, axis=1)\n",
    "    y = df[target_column]\n",
    "    \n",
    "    metrics = []\n",
    "\n",
    "    skf = StratifiedKFold(n_splits=num_splits, random_state=random_state, shuffle=True)\n",
    "    i = 0\n",
    "    \n",
    "    # удаление не вносящих вклад в обучение фичей\n",
    "    if delete_non_important:\n",
    "        scaler = StandardScaler()\n",
    "        transformer = ColumnTransformer([(\"st_scaler\", \n",
    "                                 scaler, \n",
    "                                 X.columns)],\n",
    "                                 remainder=\"passthrough\")\n",
    "\n",
    "        transformed_X = transformer.fit_transform(X)\n",
    "\n",
    "        logreg = LogisticRegression(C=1, solver='saga', max_iter=10000, random_state=42).fit(transformed_X, y)\n",
    "        importance = pd.DataFrame(logreg.coef_[0], X.columns)\n",
    "\n",
    "        for col in X.columns:\n",
    "            if np.abs(importance.loc[col].values[0]) <= threshold_importance:\n",
    "                X.drop(col, axis=1, inplace=True)\n",
    "\n",
    "    \n",
    "    # стандартизация данных\n",
    "    scaler = StandardScaler()\n",
    "    transformer = ColumnTransformer([(\"st_scaler\", \n",
    "                                      scaler, \n",
    "                                      X.columns)],\n",
    "                                      remainder=\"passthrough\")\n",
    "\n",
    "    transformed_X = transformer.fit_transform(X)\n",
    "            \n",
    "    # кросс-валидация\n",
    "    for train_index, test_index in skf.split(transformed_X, y):\n",
    "        X_train, X_test = transformed_X[train_index], transformed_X[test_index]\n",
    "        y_train, y_test = y[train_index], y[test_index]\n",
    "\n",
    "        # обучение и прогноз\n",
    "        lr = model\n",
    "        lr.fit(X_train, y_train)\n",
    "        y_predict = lr.predict_proba(X_test)[:, 1]\n",
    "        metrics.append(roc_auc_score(y_test, y_predict))\n",
    "\n",
    "        # полученные метрики\n",
    "        print(f\"K FOLD: {i+1}\")\n",
    "        print(f\"AUC = {metrics[i]}\")\n",
    "        i += 1\n",
    "\n",
    "    print(f\"MEAN AUC = {np.mean(metrics)}\")\n",
    "    cf = confusion_matrix(y_test, (y_predict >= threshold).astype(int))\n",
    "    return metrics, cf"
   ]
  },
  {
   "cell_type": "code",
   "execution_count": 11,
   "metadata": {},
   "outputs": [
    {
     "data": {
      "text/plain": [
       "{'C': 1, 'class_weight': 'balanced', 'solver': 'saga'}"
      ]
     },
     "execution_count": 11,
     "metadata": {},
     "output_type": "execute_result"
    }
   ],
   "source": [
    "# параметры подобранные с помощью GridSearch\n",
    "clf_for_fact_default.best_params_"
   ]
  },
  {
   "cell_type": "code",
   "execution_count": 12,
   "metadata": {},
   "outputs": [
    {
     "name": "stdout",
     "output_type": "stream",
     "text": [
      "K FOLD: 1\n",
      "AUC = 0.7256232686980609\n",
      "K FOLD: 2\n",
      "AUC = 0.6892788063000829\n",
      "K FOLD: 3\n",
      "AUC = 0.7050290135396519\n",
      "K FOLD: 4\n",
      "AUC = 0.7057670772676373\n",
      "K FOLD: 5\n",
      "AUC = 0.6409574468085106\n",
      "MEAN AUC = 0.6933311225227887\n",
      "CPU times: user 7 s, sys: 52.4 ms, total: 7.06 s\n",
      "Wall time: 4.21 s\n"
     ]
    }
   ],
   "source": [
    "%%time\n",
    "\n",
    "lr_for_fact_default = LogisticRegression(C=clf_for_fact_default.best_params_['C'], \n",
    "                                         max_iter=10000, \n",
    "                                         class_weight=clf_for_fact_default.best_params_['class_weight'],\n",
    "                                         solver=clf_for_fact_default.best_params_['solver'],\n",
    "                                         random_state=42)\n",
    "metrics_for_lr_for_fact_default, classification_matrix_lr_for_fact_default = train_test_func_with_get_metric(df,\n",
    "                                                                                                lr_for_fact_default)"
   ]
  },
  {
   "cell_type": "code",
   "execution_count": 13,
   "metadata": {},
   "outputs": [
    {
     "name": "stdout",
     "output_type": "stream",
     "text": [
      "K FOLD: 1\n",
      "AUC = 0.7256232686980609\n",
      "K FOLD: 2\n",
      "AUC = 0.6892788063000829\n",
      "K FOLD: 3\n",
      "AUC = 0.7050290135396519\n",
      "K FOLD: 4\n",
      "AUC = 0.7057670772676373\n",
      "K FOLD: 5\n",
      "AUC = 0.6409574468085106\n",
      "MEAN AUC = 0.6933311225227887\n",
      "CPU times: user 6.93 s, sys: 60.4 ms, total: 6.99 s\n",
      "Wall time: 4.2 s\n"
     ]
    }
   ],
   "source": [
    "%%time\n",
    "\n",
    "lr_for_fact_default = LogisticRegression(C=clf_for_fact_default.best_params_['C'], \n",
    "                                         max_iter=10000, \n",
    "                                         class_weight=clf_for_fact_default.best_params_['class_weight'],\n",
    "                                         solver=clf_for_fact_default.best_params_['solver'],\n",
    "                                         random_state=42)\n",
    "metrics_for_lr_for_fact_default, classification_matrix_lr_for_fact_default_0_4 = train_test_func_with_get_metric(df,\n",
    "                                                                                                lr_for_fact_default,\n",
    "                                                                                                threshold=0.4)"
   ]
  },
  {
   "cell_type": "code",
   "execution_count": 14,
   "metadata": {},
   "outputs": [
    {
     "name": "stdout",
     "output_type": "stream",
     "text": [
      "Classification matrix - threshold=0.5\n",
      "[[55 21]\n",
      " [52 42]]\n",
      "\n",
      "Classification matrix - threshold=0.4\n",
      "[[25 51]\n",
      " [10 84]]\n"
     ]
    }
   ],
   "source": [
    "print('Classification matrix - threshold=0.5')\n",
    "print(classification_matrix_lr_for_fact_default)\n",
    "print('\\nClassification matrix - threshold=0.4')\n",
    "print(classification_matrix_lr_for_fact_default_0_4)"
   ]
  },
  {
   "cell_type": "markdown",
   "metadata": {},
   "source": [
    "### Просрочка 0-30\n",
    "* Подберем параметры, используя GridSearchCV\n",
    "* Обучим, используя реализованный пайплайн"
   ]
  },
  {
   "cell_type": "code",
   "execution_count": 15,
   "metadata": {},
   "outputs": [
    {
     "name": "stdout",
     "output_type": "stream",
     "text": [
      "Classifier best score - 0.6803619047619047\n",
      "Classifier best parametrs - {'C': 5, 'class_weight': 'balanced', 'solver': 'newton-cg'}\n"
     ]
    }
   ],
   "source": [
    "y = df['Просрочка 0-30']\n",
    "X = df.drop(['Факт просрочки', 'Просрочка более 30 дней', 'Просрочка 0-30'], axis=1)\n",
    "\n",
    "scaler = StandardScaler()\n",
    "transformer = ColumnTransformer([(\"st_scaler\", \n",
    "                                 scaler, \n",
    "                                 X.columns)],\n",
    "                                 remainder=\"passthrough\")\n",
    "\n",
    "transformed_X = transformer.fit_transform(X)\n",
    "\n",
    "logreg = LogisticRegression(max_iter=10000, random_state=42)\n",
    "param = {'C':[0.001, 0.01,  0.1, 1, 5], \n",
    "         'class_weight': [None, 'balanced'],\n",
    "         'solver': ['newton-cg', 'lbfgs', 'liblinear', 'sag', 'saga']}\n",
    "clf_for_default_0_30 = GridSearchCV(logreg,\n",
    "                   param,\n",
    "                   scoring='roc_auc',\n",
    "                   cv=10)\n",
    "clf_for_default_0_30.fit(transformed_X,y)\n",
    "print(f\"Classifier best score - {clf_for_default_0_30.best_score_}\")\n",
    "print(f\"Classifier best parametrs - {clf_for_default_0_30.best_params_}\")"
   ]
  },
  {
   "cell_type": "code",
   "execution_count": 16,
   "metadata": {},
   "outputs": [
    {
     "name": "stdout",
     "output_type": "stream",
     "text": [
      "K FOLD: 1\n",
      "AUC = 0.7096181046676097\n",
      "K FOLD: 2\n",
      "AUC = 0.7284299858557284\n",
      "K FOLD: 3\n",
      "AUC = 0.7048090523338048\n",
      "K FOLD: 4\n",
      "AUC = 0.7985714285714284\n",
      "K FOLD: 5\n",
      "AUC = 0.7127142857142857\n",
      "MEAN AUC = 0.7308285714285714\n",
      "CPU times: user 1.92 s, sys: 14 ms, total: 1.94 s\n",
      "Wall time: 1.13 s\n"
     ]
    }
   ],
   "source": [
    "%%time\n",
    "\n",
    "lr_default_0_30 = LogisticRegression(C=clf_for_default_0_30.best_params_['C'], \n",
    "                                         max_iter=10000, \n",
    "                                         class_weight=clf_for_default_0_30.best_params_['class_weight'],\n",
    "                                         solver=clf_for_default_0_30.best_params_['solver'],\n",
    "                                         random_state=42)\n",
    "metrics_for_lr_default_0_30,classification_matrix_lr_default_0_30 = train_test_func_with_get_metric(df,\n",
    "                                                                                                lr_default_0_30,\n",
    "                                                                                        target_column='Просрочка 0-30')"
   ]
  },
  {
   "cell_type": "code",
   "execution_count": 17,
   "metadata": {},
   "outputs": [
    {
     "data": {
      "text/plain": [
       "array([[34, 36],\n",
       "       [11, 89]])"
      ]
     },
     "execution_count": 17,
     "metadata": {},
     "output_type": "execute_result"
    }
   ],
   "source": [
    "classification_matrix_lr_default_0_30"
   ]
  },
  {
   "cell_type": "markdown",
   "metadata": {},
   "source": [
    "### Просрочка более 30 дней"
   ]
  },
  {
   "cell_type": "code",
   "execution_count": 18,
   "metadata": {},
   "outputs": [
    {
     "name": "stdout",
     "output_type": "stream",
     "text": [
      "Classifier best score - 0.7635952380952381\n",
      "Classifier best parametrs - {'C': 0.001, 'class_weight': 'balanced', 'solver': 'liblinear'}\n"
     ]
    }
   ],
   "source": [
    "y = df['Просрочка более 30 дней']\n",
    "X = df.drop(['Факт просрочки', 'Просрочка более 30 дней', 'Просрочка 0-30'], axis=1)\n",
    "\n",
    "scaler = StandardScaler()\n",
    "transformer = ColumnTransformer([(\"st_scaler\", \n",
    "                                 scaler, \n",
    "                                 X.columns)],\n",
    "                                 remainder=\"passthrough\")\n",
    "\n",
    "transformed_X = transformer.fit_transform(X)\n",
    "\n",
    "logreg = LogisticRegression(max_iter=10000, random_state=42)\n",
    "param = {'C':[0.001, 0.01,  0.1, 1, 5], \n",
    "         'class_weight': [None, 'balanced'],\n",
    "         'solver': ['newton-cg', 'lbfgs', 'liblinear', 'sag', 'saga']}\n",
    "clf_for_default_30 = GridSearchCV(logreg,\n",
    "                   param,\n",
    "                   scoring='roc_auc',\n",
    "                   cv=10)\n",
    "clf_for_default_30.fit(transformed_X,y)\n",
    "print(f\"Classifier best score - {clf_for_default_30.best_score_}\")\n",
    "print(f\"Classifier best parametrs - {clf_for_default_30.best_params_}\")"
   ]
  },
  {
   "cell_type": "code",
   "execution_count": 19,
   "metadata": {},
   "outputs": [
    {
     "name": "stdout",
     "output_type": "stream",
     "text": [
      "K FOLD: 1\n",
      "AUC = 0.7548387096774193\n",
      "K FOLD: 2\n",
      "AUC = 0.8230665467625898\n",
      "K FOLD: 3\n",
      "AUC = 0.7250449640287769\n",
      "K FOLD: 4\n",
      "AUC = 0.738222325365514\n",
      "K FOLD: 5\n",
      "AUC = 0.8110930610350429\n",
      "MEAN AUC = 0.7704531213738686\n",
      "CPU times: user 1.98 s, sys: 7.48 ms, total: 1.99 s\n",
      "Wall time: 1.92 s\n"
     ]
    }
   ],
   "source": [
    "%%time\n",
    "\n",
    "lr_default_30 = LogisticRegression(C=clf_for_default_30.best_params_['C'], \n",
    "                                         max_iter=10000, \n",
    "                                         class_weight=clf_for_default_30.best_params_['class_weight'],\n",
    "                                         solver=clf_for_default_30.best_params_['solver'],\n",
    "                                         random_state=42)\n",
    "metrics_for_lr_default_30,classification_matrix_lr_default_30 = train_test_func_with_get_metric(df,\n",
    "                                                                                                lr_default_30,\n",
    "                                                                                target_column='Просрочка более 30 дней')"
   ]
  },
  {
   "cell_type": "code",
   "execution_count": 20,
   "metadata": {},
   "outputs": [
    {
     "data": {
      "text/plain": [
       "array([[127,  12],\n",
       "       [ 12,  19]])"
      ]
     },
     "execution_count": 20,
     "metadata": {},
     "output_type": "execute_result"
    }
   ],
   "source": [
    "classification_matrix_lr_default_30"
   ]
  }
 ],
 "metadata": {
  "kernelspec": {
   "display_name": "Python 3",
   "language": "python",
   "name": "python3"
  },
  "language_info": {
   "codemirror_mode": {
    "name": "ipython",
    "version": 3
   },
   "file_extension": ".py",
   "mimetype": "text/x-python",
   "name": "python",
   "nbconvert_exporter": "python",
   "pygments_lexer": "ipython3",
   "version": "3.8.5"
  }
 },
 "nbformat": 4,
 "nbformat_minor": 4
}
